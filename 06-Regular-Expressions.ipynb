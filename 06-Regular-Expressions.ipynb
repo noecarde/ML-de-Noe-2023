{
  "cells": [
    {
      "cell_type": "markdown",
      "metadata": {
        "id": "C5HOVsAkQZ1l"
      },
      "source": [
        "\n",
        "# Expresiones Regulares (regex)\n",
        "\n",
        "https://docs.python.org/3/howto/regex.html"
      ]
    },
    {
      "cell_type": "code",
      "execution_count": 1,
      "metadata": {
        "id": "vFdLmgcZQZ1n",
        "outputId": "21fbd0e6-215a-4d6c-f215-2d65e69a2c76",
        "colab": {
          "base_uri": "https://localhost:8080/"
        }
      },
      "outputs": [
        {
          "output_type": "execute_result",
          "data": {
            "text/plain": [
              "True"
            ]
          },
          "metadata": {},
          "execution_count": 1
        }
      ],
      "source": [
        "s = \"Donde digo digo, digo diego.\"\n",
        "\"digo\" in s"
      ]
    },
    {
      "cell_type": "code",
      "execution_count": 2,
      "metadata": {
        "id": "P2P4ENdiQZ1p",
        "outputId": "2d3a1dba-2e1e-4f3d-ec8b-323f895d4fa1",
        "colab": {
          "base_uri": "https://localhost:8080/"
        }
      },
      "outputs": [
        {
          "output_type": "stream",
          "name": "stdout",
          "text": [
            "['digo', 'digo', 'digo']\n"
          ]
        }
      ],
      "source": [
        "import re\n",
        "x = re.findall(\"digo\", s)\n",
        "print(x)"
      ]
    },
    {
      "cell_type": "markdown",
      "metadata": {
        "id": "gW5OwkOHQZ1p"
      },
      "source": [
        "## [ ]\n",
        "Se utilizan para especificar el conjunto de caracteres que se desea combinar. Los caracteres se pueden enumerar individualmente, o se puede indicar un rango de caracteres dando dos caracteres y separándolos por un '-'. Por ejemplo, [abc] coincidirá con cualquiera de los caracteres a, b o c; esto es lo mismo que [a-c], que usa un rango para expresar el mismo conjunto de caracteres. Si quisiera hacer coincidir solo letras minúsculas, su RE sería [a-z]."
      ]
    },
    {
      "cell_type": "code",
      "execution_count": 3,
      "metadata": {
        "id": "cMDY_6W-QZ1q",
        "outputId": "ea964f3f-f925-466e-df58-c79ba5ac3e37",
        "colab": {
          "base_uri": "https://localhost:8080/"
        }
      },
      "outputs": [
        {
          "output_type": "stream",
          "name": "stdout",
          "text": [
            "['a', 'a', 'a', 'a', 'z']\n",
            "['r', 'o', 'j', 'o', 'v', 'e', 'r', 'd', 'e', 'a', 'm', 'a', 'r', 'i', 'l', 'l', 'o', 'g', 'r', 'i', 's', 'b', 'l', 'a', 'n', 'c', 'o', 'a', 'z', 'u', 'l']\n",
            "['r', 'o', 'j', 'o', ' ', 'v', 'e', 'r', 'd', 'e', ' ', 'm', 'r', 'i', 'l', 'l', 'o', ' ', 'g', 'r', 'i', 's', ' ', 'b', 'l', 'n', 'c', 'o', ' ', 'u', 'l']\n",
            "[' ', ' ', ' ', ' ', ' ']\n"
          ]
        }
      ],
      "source": [
        "import re\n",
        "\n",
        "s =\"rojo verde amarillo gris blanco azul\"\n",
        "\n",
        "x = re.findall(\"[az]\", s)\n",
        "print(x)\n",
        "x = re.findall(\"[a-z]\", s)\n",
        "print(x)\n",
        "x = re.findall(\"[^az]\", s) # Podemos invertir la selección usando ^\n",
        "print(x)\n",
        "x = re.findall(\"[^a-z]\", s) #Devuelve todo lo que no sean letras\n",
        "print(x)"
      ]
    },
    {
      "cell_type": "markdown",
      "metadata": {
        "id": "_RXsHPx8QZ1q"
      },
      "source": [
        "##  Secuencias especiales\n",
        "\n",
        "- **\\d** Coincide con cualquier dígito decimal; esto es equivalente a la clase [0-9].\n",
        "- **\\D** Coincide con cualquier carácter que no sea un dígito; esto es equivalente a la clase [^ 0-9]. \n",
        "- **\\s** Coincide con cualquier carácter de espacio en blanco; esto es equivalente a la clase [\\t\\n\\r\\f\\v].\n",
        "- **\\S** Coincide con cualquier carácter que no sea espacio en blanco; esto es equivalente a la clase [^\\t\\n\\r\\f\\v]. \n",
        "- **\\w** Coincide con cualquier carácter alfanumérico; esto es equivalente a la clase [a-zA-Z0-9].\n",
        "- **\\W** Coincide con cualquier carácter no alfanumérico; esto es equivalente a la clase [^a-zA-Z0-9]."
      ]
    },
    {
      "cell_type": "code",
      "execution_count": 4,
      "metadata": {
        "id": "ry_2cMAmQZ1r",
        "outputId": "3d8ffa90-ab6f-4eab-d917-0f8f3cf6116c",
        "colab": {
          "base_uri": "https://localhost:8080/"
        }
      },
      "outputs": [
        {
          "output_type": "stream",
          "name": "stdout",
          "text": [
            "['rojo', 'roja', 'roji']\n"
          ]
        }
      ],
      "source": [
        "import re\n",
        "\n",
        "s =\"rojo roja rojizo azul\"\n",
        "\n",
        "x = re.findall(\"rojo\", s)\n",
        "x = re.findall(\"roj\\w\", s)\n",
        "print(x)"
      ]
    },
    {
      "cell_type": "markdown",
      "metadata": {
        "id": "QfMJbp3YQZ1r"
      },
      "source": [
        "## Repeticiones"
      ]
    },
    {
      "cell_type": "code",
      "execution_count": 5,
      "metadata": {
        "id": "GC4yVLw3QZ1r",
        "outputId": "4a16c3f4-4ce4-4d67-a1e2-e65d0cca3953",
        "colab": {
          "base_uri": "https://localhost:8080/"
        }
      },
      "outputs": [
        {
          "output_type": "stream",
          "name": "stdout",
          "text": [
            "['rojo', 'roja', 'roji']\n",
            "['rojo', 'rjo']\n",
            "['rojo', 'rjo', 'roooojo']\n",
            "['rojo', 'roooojo']\n",
            "['rojo', 'roja', 'rojizo']\n"
          ]
        }
      ],
      "source": [
        "import re\n",
        "\n",
        "s =\"rojo roja rojizo azul raja rejo rjo roooojo\"\n",
        "\n",
        "x = re.findall(\"roj.\", s) # . sustituye cualquier carácter\n",
        "print(x)\n",
        "\n",
        "x = re.findall(\"ro?jo\", s) # . sustituye cualquier carácter\n",
        "print(x)\n",
        "\n",
        "x = re.findall(\"ro*jo\", s) # . sustituye cualquier carácter\n",
        "print(x)\n",
        "\n",
        "x = re.findall(\"ro+jo\", s) # . sustituye cualquier carácter\n",
        "print(x)\n",
        "\n",
        "x = re.findall(\"roj[\\w]+\", s) # . sustituye cualquier carácter\n",
        "print(x)"
      ]
    },
    {
      "cell_type": "code",
      "execution_count": 6,
      "metadata": {
        "id": "e3lO9GA2QZ1s",
        "outputId": "b5bff44f-c5f8-4240-fa71-02deebea554b",
        "colab": {
          "base_uri": "https://localhost:8080/"
        }
      },
      "outputs": [
        {
          "output_type": "stream",
          "name": "stdout",
          "text": [
            "['rojar', 'rojo', 'Rojo', 'roja', 'Rojizo']\n",
            "['rojar', 'rojo', 'Rojo', 'roja', 'Rojizo']\n",
            "[' rojo', ' Rojo', ' roja', ' Rojizo']\n",
            "['rojo', 'Rojo', 'roja', 'Rojizo', 'encarnado', 'encarnadas']\n"
          ]
        }
      ],
      "source": [
        "import re\n",
        "\n",
        "s =\"arrojar rojo Rojo roja Rojizo azul encarnado encarnadas\"\n",
        "\n",
        "x = re.findall(r\"[rR]oj\\w*\", s)\n",
        "print(x)\n",
        "\n",
        "x = re.findall(r\"roj\\w*\", s,  re.IGNORECASE)\n",
        "print(x)\n",
        "\n",
        "x = re.findall(r\"\\sroj\\w*\", s,  re.IGNORECASE)\n",
        "print(x)\n",
        "\n",
        "x = re.findall(r\"\\broj\\w*|encarnad\\w*\", s,  re.IGNORECASE) # | es un ó en python\n",
        "print(x)"
      ]
    },
    {
      "cell_type": "code",
      "execution_count": 10,
      "metadata": {
        "id": "gGLsntWLQZ1s",
        "outputId": "33ee9da0-073b-432f-cdd6-364669f3e5b0",
        "colab": {
          "base_uri": "https://localhost:8080/"
        }
      },
      "outputs": [
        {
          "output_type": "stream",
          "name": "stdout",
          "text": [
            "45.3\n"
          ]
        }
      ],
      "source": [
        "import re\n",
        "\n",
        "s = u\"Precio: 45.3€\"\n",
        "\n",
        "x = re.findall(r\"\\d+\\.\\d*\", s)\n",
        "print(float(x[0]))"
      ]
    }
  ],
  "metadata": {
    "kernelspec": {
      "display_name": "Python 3",
      "language": "python",
      "name": "python3"
    },
    "language_info": {
      "codemirror_mode": {
        "name": "ipython",
        "version": 3
      },
      "file_extension": ".py",
      "mimetype": "text/x-python",
      "name": "python",
      "nbconvert_exporter": "python",
      "pygments_lexer": "ipython3",
      "version": "3.6.5"
    },
    "colab": {
      "name": "06-Regular-Expressions.ipynb",
      "provenance": []
    }
  },
  "nbformat": 4,
  "nbformat_minor": 0
}